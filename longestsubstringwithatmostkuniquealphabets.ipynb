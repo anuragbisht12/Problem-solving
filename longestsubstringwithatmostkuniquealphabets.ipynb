{
  "nbformat": 4,
  "nbformat_minor": 0,
  "metadata": {
    "colab": {
      "name": "Untitled0.ipynb",
      "provenance": [],
      "authorship_tag": "ABX9TyPlDqpAgtT7cTsgB5f45L0A",
      "include_colab_link": true
    },
    "kernelspec": {
      "name": "python3",
      "display_name": "Python 3"
    }
  },
  "cells": [
    {
      "cell_type": "markdown",
      "metadata": {
        "id": "view-in-github",
        "colab_type": "text"
      },
      "source": [
        "<a href=\"https://colab.research.google.com/github/anuragbisht12/Problem-solving/blob/master/longestsubstringwithatmostkuniquealphabets.ipynb\" target=\"_parent\"><img src=\"https://colab.research.google.com/assets/colab-badge.svg\" alt=\"Open In Colab\"/></a>"
      ]
    },
    {
      "cell_type": "markdown",
      "metadata": {
        "id": "49QvyUj2D1nf",
        "colab_type": "text"
      },
      "source": [
        "Good morning! Here's your coding interview problem for today.\n",
        "\n",
        "This problem was asked by Amazon.\n",
        "\n",
        "Given an integer k and a string s, find the length of the longest substring that contains at most k distinct characters.\n",
        "\n",
        "For example, given s = \"abcba\" and k = 2, the longest substring with k distinct characters is \"bcb\"."
      ]
    },
    {
      "cell_type": "code",
      "metadata": {
        "id": "DqDzaSypEDZX",
        "colab_type": "code",
        "outputId": "f21d1c75-9bae-4ff7-dd29-04dcc22e261e",
        "colab": {
          "base_uri": "https://localhost:8080/",
          "height": 252
        }
      },
      "source": [
        "def longestsubstring(k,s):\n",
        "  # print(list(s))\n",
        "  # print(set(s))\n",
        "  start=0\n",
        "  word=[s[start]]\n",
        "  length=1\n",
        "  length_of_string=len(s)\n",
        "  print(length_of_string)\n",
        "  var=[]\n",
        "  for i in range(1,length_of_string):\n",
        "    print(word)\n",
        "    if len(set(word))<k+1:\n",
        "      word.append(s[i])\n",
        "      print('a')\n",
        "    else:\n",
        "      if start+1+k<length_of_string:\n",
        "        start+=1\n",
        "        word=word[start:]\n",
        "        word.append(s[i])\n",
        "        print('b')\n",
        "      else:\n",
        "        word.append(s[i])\n",
        "        print('c')\n",
        "    if len(set(word))>k and i==start+1+k:\n",
        "      print(start+1+k)\n",
        "      print('yes')\n",
        "      word.pop()\n",
        "  return word\n",
        "\n",
        "\n",
        "print(longestsubstring(1,'abcbaa'))"
      ],
      "execution_count": 0,
      "outputs": [
        {
          "output_type": "stream",
          "text": [
            "6\n",
            "['a']\n",
            "a\n",
            "['a', 'b']\n",
            "b\n",
            "['b', 'c']\n",
            "b\n",
            "['b']\n",
            "a\n",
            "4\n",
            "yes\n",
            "['b']\n",
            "a\n",
            "['b', 'a']\n"
          ],
          "name": "stdout"
        }
      ]
    },
    {
      "cell_type": "code",
      "metadata": {
        "id": "bY5Pyn6tCIYy",
        "colab_type": "code",
        "colab": {}
      },
      "source": [
        ""
      ],
      "execution_count": 0,
      "outputs": []
    }
  ]
}