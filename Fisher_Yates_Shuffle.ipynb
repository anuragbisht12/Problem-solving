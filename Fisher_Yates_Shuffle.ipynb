{
  "nbformat": 4,
  "nbformat_minor": 0,
  "metadata": {
    "colab": {
      "name": "Fisher-Yates Shuffle.ipynb",
      "provenance": [],
      "authorship_tag": "ABX9TyMqtgEDE4C+zJdpNeCF49S/",
      "include_colab_link": true
    },
    "kernelspec": {
      "name": "python3",
      "display_name": "Python 3"
    }
  },
  "cells": [
    {
      "cell_type": "markdown",
      "metadata": {
        "id": "view-in-github",
        "colab_type": "text"
      },
      "source": [
        "<a href=\"https://colab.research.google.com/github/anuragbisht12/Problem-solving/blob/master/Fisher_Yates_Shuffle.ipynb\" target=\"_parent\"><img src=\"https://colab.research.google.com/assets/colab-badge.svg\" alt=\"Open In Colab\"/></a>"
      ]
    },
    {
      "cell_type": "markdown",
      "metadata": {
        "id": "SKzXsMvoL2QT",
        "colab_type": "text"
      },
      "source": [
        "Good morning! Here's your coding interview problem for today.\n",
        "\n",
        "This problem was asked by Facebook.\n",
        "\n",
        "Given a function that generates perfectly random numbers between 1 and k (inclusive), where k is an input, write a function that shuffles a deck of cards represented as an array using only swaps.\n",
        "\n",
        "It should run in O(N) time.\n",
        "\n",
        "Hint: Make sure each one of the 52! permutations of the deck is equally likely."
      ]
    },
    {
      "cell_type": "code",
      "metadata": {
        "id": "mZmWViV3Rf4g",
        "colab_type": "code",
        "colab": {
          "base_uri": "https://localhost:8080/",
          "height": 54
        },
        "outputId": "d9a120d9-a7d2-4e8a-a692-ea252c292df7"
      },
      "source": [
        "# Solution\n",
        "from random import randint\n",
        "\n",
        "def shuffle(array):\n",
        "  for i in range(len(array)-1,0,-1):\n",
        "    # to take value between\n",
        "    j=randint(0,i+1)\n",
        "    array[i],array[j]=array[j],array[i]\n",
        "  return array\n",
        "\n",
        "array=[x for x in range(1,53)]\n",
        "print(shuffle(array))"
      ],
      "execution_count": 9,
      "outputs": [
        {
          "output_type": "stream",
          "text": [
            "[44, 11, 48, 34, 2, 28, 21, 9, 1, 51, 32, 33, 7, 3, 10, 15, 52, 46, 49, 25, 20, 36, 17, 19, 5, 26, 45, 29, 14, 4, 24, 41, 13, 22, 6, 37, 27, 43, 18, 16, 35, 39, 23, 42, 50, 12, 40, 47, 31, 30, 38, 8]\n"
          ],
          "name": "stdout"
        }
      ]
    },
    {
      "cell_type": "code",
      "metadata": {
        "id": "8y3_K-ggRJYr",
        "colab_type": "code",
        "colab": {}
      },
      "source": [
        "# Fisher–Yates shuffle Algorithm"
      ],
      "execution_count": null,
      "outputs": []
    }
  ]
}