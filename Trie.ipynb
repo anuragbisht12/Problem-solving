{
  "nbformat": 4,
  "nbformat_minor": 0,
  "metadata": {
    "colab": {
      "name": "Trie.ipynb",
      "provenance": [],
      "authorship_tag": "ABX9TyO0pwdeVHw+LBJCI6XPdViA",
      "include_colab_link": true
    },
    "kernelspec": {
      "name": "python3",
      "display_name": "Python 3"
    }
  },
  "cells": [
    {
      "cell_type": "markdown",
      "metadata": {
        "id": "view-in-github",
        "colab_type": "text"
      },
      "source": [
        "<a href=\"https://colab.research.google.com/github/anuragbisht12/Problem-solving/blob/master/Trie.ipynb\" target=\"_parent\"><img src=\"https://colab.research.google.com/assets/colab-badge.svg\" alt=\"Open In Colab\"/></a>"
      ]
    },
    {
      "cell_type": "markdown",
      "metadata": {
        "id": "zqP9OWnjlHZW",
        "colab_type": "text"
      },
      "source": [
        "Implement an autocomplete system. That is, given a query string s and a set of all possible query strings, return all strings in the set that have s as a prefix.\n",
        "\n",
        "For example, given the query string de and the set of strings [dog, deer, deal], return [deer, deal].\n",
        "\n",
        "Hint: Try preprocessing the dictionary into a more efficient data structure to speed up queries."
      ]
    },
    {
      "cell_type": "code",
      "metadata": {
        "id": "Kp8lauV8lIYR",
        "colab_type": "code",
        "colab": {}
      },
      "source": [
        "from collections import defaultdict"
      ],
      "execution_count": 0,
      "outputs": []
    },
    {
      "cell_type": "code",
      "metadata": {
        "id": "XzcTj5o6zu2Z",
        "colab_type": "code",
        "colab": {}
      },
      "source": [
        "class TrieNode():\n",
        "\n",
        "    def __init__(self):\n",
        "        self.children = defaultdict()\n",
        "        self.terminating = False\n",
        "class Trie():\n",
        "    def __init__(self):\n",
        "      self.root=self.get_node()\n",
        "    def get_node(self):\n",
        "      return TrieNode()\n",
        "    def get_index(self,ch):\n",
        "      return ord(ch) - ord('a')\n",
        "    def insert(self,word):\n",
        "      root=self.root\n",
        "      len1=len(word)\n",
        "\n",
        "      for i in range(len1):\n",
        "        index=self.get_index(word[i])\n",
        "        if index not in root.children:\n",
        "                root.children[index] = self.get_node()\n",
        "        root = root.children.get(index)\n",
        "      root.terminating = True\n",
        "    def search(self, word):\n",
        "        root = self.root\n",
        "        len1 = len(word)\n",
        "\n",
        "        for i in range(len1):\n",
        "            index = self.get_index(word[i])\n",
        "            if not root:\n",
        "                return False\n",
        "            root = root.children.get(index)\n",
        "\n",
        "        return True if root and root.terminating else False\n",
        "\n",
        "    def delete(self, word):\n",
        "\n",
        "        root = self.root\n",
        "        len1 = len(word)\n",
        "\n",
        "        for i in range(len1):\n",
        "            index = self.get_index(word[i])\n",
        "\n",
        "            if not root:\n",
        "                print (\"Word not found\")\n",
        "                return -1\n",
        "            root = root.children.get(index)\n",
        "\n",
        "        if not root:\n",
        "            print (\"Word not found\")\n",
        "            return -1\n",
        "        else:\n",
        "            root.terminating = False\n",
        "            return 0\n",
        "    def update(self, old_word, new_word):\n",
        "        val = self.delete(old_word)\n",
        "        if val == 0:\n",
        "            self.insert(new_word)"
      ],
      "execution_count": 0,
      "outputs": []
    },
    {
      "cell_type": "code",
      "metadata": {
        "id": "FMoP20Hv5TX7",
        "colab_type": "code",
        "colab": {
          "base_uri": "https://localhost:8080/",
          "height": 84
        },
        "outputId": "af970822-a6c6-4437-d339-3fe4f207dd7f"
      },
      "source": [
        "if __name__ == \"__main__\":\n",
        "\n",
        "    strings = [\"pqrs\", \"pprt\", \"psst\", \"qqrs\", \"pqrs\"]\n",
        "\n",
        "    t = Trie()\n",
        "    for word in strings:\n",
        "        t.insert(word)\n",
        "\n",
        "    print(t.search(\"pqrs\"))\n",
        "    print(t.search(\"pprt\"))\n",
        "\n",
        "    t.delete(\"pprt\")\n",
        "\n",
        "    print(t.search(\"pprt\"))\n",
        "\n",
        "    t.update(\"mnop\", \"pprt\")"
      ],
      "execution_count": 6,
      "outputs": [
        {
          "output_type": "stream",
          "text": [
            "True\n",
            "True\n",
            "False\n",
            "Word not found\n"
          ],
          "name": "stdout"
        }
      ]
    },
    {
      "cell_type": "code",
      "metadata": {
        "id": "pzu4vPaO5Xvu",
        "colab_type": "code",
        "colab": {}
      },
      "source": [
        ""
      ],
      "execution_count": 0,
      "outputs": []
    },
    {
      "cell_type": "code",
      "metadata": {
        "id": "1ul1z3-g4hiY",
        "colab_type": "code",
        "colab": {}
      },
      "source": [
        ""
      ],
      "execution_count": 0,
      "outputs": []
    }
  ]
}