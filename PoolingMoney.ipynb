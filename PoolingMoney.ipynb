{
  "nbformat": 4,
  "nbformat_minor": 0,
  "metadata": {
    "colab": {
      "name": "PoolingMoney.ipynb",
      "provenance": [],
      "authorship_tag": "ABX9TyPgS7/wdSK4ztk/l0Mqq/oK",
      "include_colab_link": true
    },
    "kernelspec": {
      "name": "python3",
      "display_name": "Python 3"
    }
  },
  "cells": [
    {
      "cell_type": "markdown",
      "metadata": {
        "id": "view-in-github",
        "colab_type": "text"
      },
      "source": [
        "<a href=\"https://colab.research.google.com/github/anuragbisht12/Problem-solving/blob/master/PoolingMoney.ipynb\" target=\"_parent\"><img src=\"https://colab.research.google.com/assets/colab-badge.svg\" alt=\"Open In Colab\"/></a>"
      ]
    },
    {
      "cell_type": "code",
      "metadata": {
        "id": "AiGHOFYqR6oe",
        "colab_type": "code",
        "colab": {}
      },
      "source": [
        ""
      ],
      "execution_count": 0,
      "outputs": []
    },
    {
      "cell_type": "markdown",
      "metadata": {
        "id": "p0h8qetaR7yP",
        "colab_type": "text"
      },
      "source": [
        "Sunny and Johnny make the following two trips to the parlor:\n",
        "\n",
        "The first time, they pool together  dollars. There are five flavors available that day and flavors  and  have a total cost of .\n",
        "The second time, they pool together  dollars. There are four flavors available that day and flavors  and  have a total cost of ."
      ]
    },
    {
      "cell_type": "code",
      "metadata": {
        "id": "gH22amL4R9Jr",
        "colab_type": "code",
        "colab": {}
      },
      "source": [
        "2\n",
        "4\n",
        "5\n",
        "1 4 5 3 2\n",
        "4\n",
        "4\n",
        "2 2 4 3"
      ],
      "execution_count": 0,
      "outputs": []
    },
    {
      "cell_type": "code",
      "metadata": {
        "id": "_nYB6yhmSFfk",
        "colab_type": "code",
        "colab": {}
      },
      "source": [
        "1 4\n",
        "1 2"
      ],
      "execution_count": 0,
      "outputs": []
    },
    {
      "cell_type": "code",
      "metadata": {
        "id": "WJCMWpaNSKlo",
        "colab_type": "code",
        "colab": {}
      },
      "source": [
        "def whatFlavors(a, m):\n",
        "    cost_map = {}\n",
        "    for i, cost in enumerate(a):\n",
        "        sunny = cost\n",
        "        johnny = m - cost\n",
        "        if johnny in cost_map.keys():\n",
        "            print(cost_map[johnny]+1, i+1)\n",
        "        else:\n",
        "            cost_map[cost] = i\n"
      ],
      "execution_count": 0,
      "outputs": []
    }
  ]
}