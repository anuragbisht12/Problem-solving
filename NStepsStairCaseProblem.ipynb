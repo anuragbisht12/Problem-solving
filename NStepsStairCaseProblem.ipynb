{
  "nbformat": 4,
  "nbformat_minor": 0,
  "metadata": {
    "colab": {
      "name": "NStepsStairCaseProblem.ipynb",
      "provenance": [],
      "authorship_tag": "ABX9TyN+KfIoYbiesPiV4ME4Gu5C",
      "include_colab_link": true
    },
    "kernelspec": {
      "name": "python3",
      "display_name": "Python 3"
    }
  },
  "cells": [
    {
      "cell_type": "markdown",
      "metadata": {
        "id": "view-in-github",
        "colab_type": "text"
      },
      "source": [
        "<a href=\"https://colab.research.google.com/github/anuragbisht12/Problem-solving/blob/master/NStepsStairCaseProblem.ipynb\" target=\"_parent\"><img src=\"https://colab.research.google.com/assets/colab-badge.svg\" alt=\"Open In Colab\"/></a>"
      ]
    },
    {
      "cell_type": "markdown",
      "metadata": {
        "id": "AE_fYALIwZxe",
        "colab_type": "text"
      },
      "source": [
        "This problem was asked by Amazon.\n",
        "\n",
        "There exists a staircase with N steps, and you can climb up either 1 or 2 steps at a time. Given N, write a function that returns the number of unique ways you can climb the staircase. The order of the steps matters.\n",
        "\n",
        "For example, if N is 4, then there are 5 unique ways:\n",
        "\n",
        "1, 1, 1, 1<br/>\n",
        "2, 1, 1<br/>\n",
        "1, 2, 1<br/>\n",
        "1, 1, 2<br/>\n",
        "2, 2<br/>\n",
        "What if, instead of being able to climb 1 or 2 steps at a time, you could climb any number from a set of positive integers X? For example, if X = {1, 3, 5}, you could climb 1, 3, or 5 steps at a time."
      ]
    },
    {
      "cell_type": "code",
      "metadata": {
        "id": "dPNDDmVJwrAE",
        "colab_type": "code",
        "colab": {
          "base_uri": "https://localhost:8080/",
          "height": 34
        },
        "outputId": "9a3ed732-5567-449a-df2a-bfeee6aa327c"
      },
      "source": [
        "def findStep( n) : \n",
        "    if (n == 1 or n == 0) : \n",
        "        return 1\n",
        "    elif (n == 2) : \n",
        "        return 2\n",
        "      \n",
        "    else : \n",
        "        return  findStep(n - 2) + findStep(n - 1)  \n",
        "  \n",
        "  \n",
        "# Driver code \n",
        "n = 4\n",
        "print(findStep(n)) "
      ],
      "execution_count": 1,
      "outputs": [
        {
          "output_type": "stream",
          "text": [
            "5\n"
          ],
          "name": "stdout"
        }
      ]
    },
    {
      "cell_type": "code",
      "metadata": {
        "id": "7NhKwqh6wX9t",
        "colab_type": "code",
        "colab": {
          "base_uri": "https://localhost:8080/",
          "height": 50
        },
        "outputId": "6cb7d8a5-16fa-458f-dcb2-18e94a88309c"
      },
      "source": [
        "# dynamic programming approach\n",
        "def countWays(n) : \n",
        "    res = [0] * (n + 1) \n",
        "    res[0] = 1\n",
        "    res[1] = 1\n",
        "    # res[2] = 2\n",
        "    for i in range(2, n + 1) : \n",
        "        res[i] = res[i - 1] + res[i - 2] #+ res[i - 3] \n",
        "\n",
        "    print(res)  \n",
        "    return res[n] \n",
        "  \n",
        "# Driver code \n",
        "n = 4\n",
        "print(countWays(n)) "
      ],
      "execution_count": 7,
      "outputs": [
        {
          "output_type": "stream",
          "text": [
            "[1, 1, 2, 3, 5]\n",
            "5\n"
          ],
          "name": "stdout"
        }
      ]
    },
    {
      "cell_type": "code",
      "metadata": {
        "id": "OGPJ9ni_4anf",
        "colab_type": "code",
        "colab": {
          "base_uri": "https://localhost:8080/",
          "height": 50
        },
        "outputId": "c59325ac-7be4-4969-b9f1-d2933bf8ed88"
      },
      "source": [
        "# dynamic apporach for steps={1,3,5}\n",
        "# dynamic programming approach\n",
        "def countWays(n) : \n",
        "    res=[0]*(n+1)\n",
        "    res[0]=1\n",
        "    res[1]=2\n",
        "    res[2]=2\n",
        "    for i in range(3,n+1):\n",
        "      res[i]=res[i - 1] + res[i - 3] + res[i - 5] \n",
        "    print(res)\n",
        "  \n",
        "# Driver code \n",
        "n = 5\n",
        "print(countWays(n)) \n",
        "\n",
        "# 5->4->3->2->1->0\n",
        "  # 5->4->3->2->0\n",
        "  # 5->4->3->0\n",
        "  # 5->4->1->0\n",
        "  # 5->4->0\n",
        "  # 5->2->1\n",
        "  # 5->2->0\n",
        "  # 5->0\n",
        "\n",
        "#4->3->2->1\n",
        "#4->3->2->0\n",
        "#4->3->0\n",
        "#4->1->0\n",
        "#4->0"
      ],
      "execution_count": 15,
      "outputs": [
        {
          "output_type": "stream",
          "text": [
            "[1, 2, 2, 3, 5, 8]\n",
            "None\n"
          ],
          "name": "stdout"
        }
      ]
    }
  ]
}