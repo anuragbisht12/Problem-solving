{
  "nbformat": 4,
  "nbformat_minor": 0,
  "metadata": {
    "colab": {
      "name": "Common Child.ipynb",
      "provenance": [],
      "authorship_tag": "ABX9TyNKHA+9x/mwf45acuC6MYiJ",
      "include_colab_link": true
    },
    "kernelspec": {
      "name": "python3",
      "display_name": "Python 3"
    }
  },
  "cells": [
    {
      "cell_type": "markdown",
      "metadata": {
        "id": "view-in-github",
        "colab_type": "text"
      },
      "source": [
        "<a href=\"https://colab.research.google.com/github/anuragbisht12/Problem-solving/blob/master/Common_Child.ipynb\" target=\"_parent\"><img src=\"https://colab.research.google.com/assets/colab-badge.svg\" alt=\"Open In Colab\"/></a>"
      ]
    },
    {
      "cell_type": "markdown",
      "metadata": {
        "id": "CShxamsNLCz-",
        "colab_type": "text"
      },
      "source": [
        "Common Child - Hacker Rank Solution\n",
        "A string is said to be a child of a another string if it can be formed by deleting 0 or more characters from the other string. Given two strings of equal length, what's the longest string that can be constructed such that it is a child of both?\n",
        "\n",
        "For example, ABCD and ABDC have two children with maximum length 3, ABC and ABD. They can be formed by eliminating either the D or C from both strings. Note that we will not consider ABCD as a common child because we can't rearrange characters and ABCD  ABDC."
      ]
    },
    {
      "cell_type": "code",
      "metadata": {
        "id": "fS61kFKhLN61",
        "colab_type": "code",
        "colab": {}
      },
      "source": [
        ""
      ],
      "execution_count": 0,
      "outputs": []
    },
    {
      "cell_type": "code",
      "metadata": {
        "id": "kn5_dRQYLDk6",
        "colab_type": "code",
        "colab": {}
      },
      "source": [
        "def LCS(s1, s2):\n",
        "    n, m = len(s1), len(s2)\n",
        "    lcs = [[0] * (m + 1) for _ in xrange(n + 1)]\n",
        "\n",
        "    for i, c1 in enumerate(s1):\n",
        "        for j, c2 in enumerate(s2):\n",
        "            if c1 == c2:\n",
        "                lcs[i][j] = lcs[i - 1][j - 1] + 1\n",
        "            else:\n",
        "                lcs[i][j] = max(lcs[i][j - 1], lcs[i - 1][j])\n",
        "\n",
        "    return lcs[n - 1][m - 1]\n",
        "\n",
        "\n",
        "if __name__ == '__main__':\n",
        "    a = raw_input()\n",
        "    b = raw_input()\n",
        "\n",
        "    print LCS(a, b)"
      ],
      "execution_count": 0,
      "outputs": []
    }
  ]
}