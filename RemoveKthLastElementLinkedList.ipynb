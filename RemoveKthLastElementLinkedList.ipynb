{
  "nbformat": 4,
  "nbformat_minor": 0,
  "metadata": {
    "colab": {
      "name": "RemoveKthLastElementLinkedList.ipynb",
      "provenance": [],
      "authorship_tag": "ABX9TyOZB9osyEH3oIqrA9saSZS/",
      "include_colab_link": true
    },
    "kernelspec": {
      "name": "python3",
      "display_name": "Python 3"
    }
  },
  "cells": [
    {
      "cell_type": "markdown",
      "metadata": {
        "id": "view-in-github",
        "colab_type": "text"
      },
      "source": [
        "<a href=\"https://colab.research.google.com/github/anuragbisht12/Problem-solving/blob/master/RemoveKthLastElementLinkedList.ipynb\" target=\"_parent\"><img src=\"https://colab.research.google.com/assets/colab-badge.svg\" alt=\"Open In Colab\"/></a>"
      ]
    },
    {
      "cell_type": "markdown",
      "metadata": {
        "id": "KFDJijBH_iS4",
        "colab_type": "text"
      },
      "source": [
        "This problem was asked by Google.\n",
        "\n",
        "Given a singly linked list and an integer k, remove the kth last element from the list. k is guaranteed to be smaller than the length of the list.\n",
        "\n",
        "The list is very long, so making more than one pass is prohibitively expensive.\n",
        "\n",
        "Do this in constant space and in one pass."
      ]
    },
    {
      "cell_type": "code",
      "metadata": {
        "id": "prm4skZl_jtK",
        "colab_type": "code",
        "colab": {
          "base_uri": "https://localhost:8080/",
          "height": 50
        },
        "outputId": "cb08748c-6985-4e22-820c-8764e6af6763"
      },
      "source": [
        "class Node:\n",
        "  def __init__(self,data):\n",
        "    self.data=data\n",
        "    self.next=None\n",
        "\n",
        "class LinkedList:\n",
        "  def __init__(self):\n",
        "    self.head=None\n",
        "  \n",
        "  def append(self,newnode):\n",
        "    if self.head is None:\n",
        "      self.head=newnode\n",
        "    else:\n",
        "      current=self.head\n",
        "      while current.next is not None:\n",
        "        current=current.next\n",
        "      current.next=newnode\n",
        "  def display(self):\n",
        "    current=self.head\n",
        "    while  current is not None:\n",
        "      print(current.data,end=' ')\n",
        "      current=current.next\n",
        "\n",
        "  def removeKthFromEnd(self,k):\n",
        "    previous=self.head\n",
        "    kth=self.head\n",
        "    end=self.head\n",
        "    for i in range(k):\n",
        "      end=end.next\n",
        "    while(end!=None):\n",
        "      previous=kth\n",
        "      end=end.next\n",
        "      kth=kth.next\n",
        "    previous.next=kth.next\n",
        "    kth=None\n",
        "\n",
        "linkedlist1=LinkedList()\n",
        "\n",
        "li=[2,4,6,8,7,9,9,1]\n",
        "for i in li:\n",
        "  linkedlist1.append(Node(i))\n",
        "\n",
        "linkedlist1.display()\n",
        "print('----')\n",
        "\n",
        "linkedlist1.removeKthFromEnd(1)\n",
        "\n",
        "linkedlist1.display()\n",
        "\n"
      ],
      "execution_count": 12,
      "outputs": [
        {
          "output_type": "stream",
          "text": [
            "2 4 6 8 7 9 9 1 ----\n",
            "2 4 6 8 7 9 9 "
          ],
          "name": "stdout"
        }
      ]
    },
    {
      "cell_type": "code",
      "metadata": {
        "id": "69e8BUinGuiH",
        "colab_type": "code",
        "colab": {}
      },
      "source": [
        "{\n",
        "    var previous = list.head;\n",
        "    var kth = list.head;\n",
        "    var end = list.head;\n",
        "    for(var i = 0; i < k; i++){\n",
        "        end = end.next;\n",
        "    }\n",
        "    while(end != null) {\n",
        "        previous = kth;\n",
        "        end = end.next;\n",
        "        kth = kth.next;\n",
        "\n",
        "    }\n",
        "    previous.next = kth.next;\n",
        "    kth = null;\n",
        "}"
      ],
      "execution_count": 0,
      "outputs": []
    }
  ]
}