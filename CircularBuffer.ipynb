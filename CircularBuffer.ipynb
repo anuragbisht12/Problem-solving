{
  "nbformat": 4,
  "nbformat_minor": 0,
  "metadata": {
    "colab": {
      "name": "CircularBuffer.ipynb",
      "provenance": [],
      "authorship_tag": "ABX9TyM1XZMdhfkYp0AYQEuOoSsx",
      "include_colab_link": true
    },
    "kernelspec": {
      "name": "python3",
      "display_name": "Python 3"
    }
  },
  "cells": [
    {
      "cell_type": "markdown",
      "metadata": {
        "id": "view-in-github",
        "colab_type": "text"
      },
      "source": [
        "<a href=\"https://colab.research.google.com/github/anuragbisht12/Problem-solving/blob/master/CircularBuffer.ipynb\" target=\"_parent\"><img src=\"https://colab.research.google.com/assets/colab-badge.svg\" alt=\"Open In Colab\"/></a>"
      ]
    },
    {
      "cell_type": "code",
      "metadata": {
        "id": "0ZKEsB0r84Qb",
        "colab_type": "code",
        "colab": {
          "base_uri": "https://localhost:8080/",
          "height": 128
        },
        "outputId": "6f48fc99-8fc1-4ca9-9f65-3a14d0347235"
      },
      "source": [
        "Good morning! Here's your coding interview problem for today.\n",
        "\n",
        "This problem was asked by Twitter.\n",
        "\n",
        "You run an e-commerce website and want to record the last N order ids in a log. Implement a data structure to accomplish this, with the following API:\n",
        "\n",
        "record(order_id): adds the order_id to the log\n",
        "get_last(i): gets the ith last element from the log. i is guaranteed to be smaller than or equal to N.\n",
        "You should be as efficient with time and space as possible."
      ],
      "execution_count": 1,
      "outputs": [
        {
          "output_type": "error",
          "ename": "SyntaxError",
          "evalue": "ignored",
          "traceback": [
            "\u001b[0;36m  File \u001b[0;32m\"<ipython-input-1-e547bcb54a3b>\"\u001b[0;36m, line \u001b[0;32m1\u001b[0m\n\u001b[0;31m    Good morning! Here's your coding interview problem for today.\u001b[0m\n\u001b[0m               ^\u001b[0m\n\u001b[0;31mSyntaxError\u001b[0m\u001b[0;31m:\u001b[0m invalid syntax\n"
          ]
        }
      ]
    },
    {
      "cell_type": "code",
      "metadata": {
        "id": "MFw64oS2-lpT",
        "colab_type": "code",
        "colab": {
          "base_uri": "https://localhost:8080/",
          "height": 34
        },
        "outputId": "b5fe88c0-bac6-48c8-8df6-709651fde697"
      },
      "source": [
        "class log:\n",
        "  def __init__(self,n):\n",
        "    self.maxsize=n\n",
        "    self.circularbuffer=[0]*n\n",
        "    self.currIdx=0\n",
        "\n",
        "  def record(self,id):\n",
        "    self.circularbuffer[self.currIdx]=id\n",
        "    self.currIdx=(self.currIdx+1)%self.maxsize\n",
        "  def getlast(self,i):\n",
        "    return self.circularbuffer[(self.currIdx - i + self.maxsize) % self.maxsize]\n",
        "\n",
        "a=log(10)\n",
        "a.record(2)\n",
        "a.record(3)\n",
        "print(a.getlast(1))"
      ],
      "execution_count": 14,
      "outputs": [
        {
          "output_type": "stream",
          "text": [
            "3\n"
          ],
          "name": "stdout"
        }
      ]
    }
  ]
}