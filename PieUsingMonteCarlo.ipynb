{
  "nbformat": 4,
  "nbformat_minor": 0,
  "metadata": {
    "colab": {
      "name": "PieUsingMonteCarlo.ipynb",
      "provenance": [],
      "authorship_tag": "ABX9TyNUxo0HTsxgEr0VzMk8/LQa",
      "include_colab_link": true
    },
    "kernelspec": {
      "name": "python3",
      "display_name": "Python 3"
    }
  },
  "cells": [
    {
      "cell_type": "markdown",
      "metadata": {
        "id": "view-in-github",
        "colab_type": "text"
      },
      "source": [
        "<a href=\"https://colab.research.google.com/github/anuragbisht12/Problem-solving/blob/master/PieUsingMonteCarlo.ipynb\" target=\"_parent\"><img src=\"https://colab.research.google.com/assets/colab-badge.svg\" alt=\"Open In Colab\"/></a>"
      ]
    },
    {
      "cell_type": "markdown",
      "metadata": {
        "id": "37ygyCxDA81y",
        "colab_type": "text"
      },
      "source": [
        "Good morning! Here's your coding interview problem for today.\n",
        "\n",
        "This problem was asked by Google.\n",
        "\n",
        "The area of a circle is defined as πr^2. Estimate π to 3 decimal places using a Monte Carlo method.\n",
        "\n",
        "Hint: The basic equation of a circle is x2 + y2 = r2."
      ]
    },
    {
      "cell_type": "markdown",
      "metadata": {
        "id": "R4TOltnIE5OX",
        "colab_type": "text"
      },
      "source": [
        "We know that area of the square is 1 unit sq while that of circle is \\pi \\ast  (\\frac{1}{2})^{2} = \\frac{\\pi}{4}. Now for a very large number of generated points,\n"
      ]
    },
    {
      "cell_type": "markdown",
      "metadata": {
        "id": "8ly-SUlrFELB",
        "colab_type": "text"
      },
      "source": [
        "The Algorithm\n",
        "1. Initialize circle_points, square_points and interval to 0.\n",
        "2. Generate random point x.\n",
        "3. Generate random point y.\n",
        "4. Calculate d = x*x + y*y.\n",
        "5. If d <= 1, increment circle_points.\n",
        "6. Increment square_points.\n",
        "7. Increment interval.\n",
        "8. If increment < NO_OF_ITERATIONS, repeat from 2.\n",
        "9. Calculate pi = 4*(circle_points/square_points).\n",
        "10. Terminate."
      ]
    },
    {
      "cell_type": "code",
      "metadata": {
        "id": "7VZXQYpGA-eE",
        "colab_type": "code",
        "colab": {
          "base_uri": "https://localhost:8080/",
          "height": 34
        },
        "outputId": "7b8632c3-0ac0-4d0e-dbbe-1fdb5647801f"
      },
      "source": [
        "import random\n",
        "INTERVAL=1000\n",
        "\n",
        "circle_points= 0\n",
        "square_points= 0\n",
        "\n",
        "# print(INTERVAL**2)\n",
        "for i in range(INTERVAL**2):\n",
        "  rand_x= random.uniform(-1, 1) \n",
        "  rand_y= random.uniform(-1, 1) \n",
        "  origin_dist= rand_x**2 + rand_y**2\n",
        "  if origin_dist<=1:\n",
        "    circle_points+=1\n",
        "  square_points+=1\n",
        "  pi = 4* circle_points/ square_points \n",
        "print('Final value of pi:',pi)"
      ],
      "execution_count": 4,
      "outputs": [
        {
          "output_type": "stream",
          "text": [
            "Final value of pi: 3.140176\n"
          ],
          "name": "stdout"
        }
      ]
    }
  ]
}