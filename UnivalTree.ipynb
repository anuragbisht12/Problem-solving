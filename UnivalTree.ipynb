{
  "nbformat": 4,
  "nbformat_minor": 0,
  "metadata": {
    "colab": {
      "name": "UnivalTree.ipynb",
      "provenance": [],
      "authorship_tag": "ABX9TyOcHwTkz0m3mUwMXq9rJIDB",
      "include_colab_link": true
    },
    "kernelspec": {
      "name": "python3",
      "display_name": "Python 3"
    }
  },
  "cells": [
    {
      "cell_type": "markdown",
      "metadata": {
        "id": "view-in-github",
        "colab_type": "text"
      },
      "source": [
        "<a href=\"https://colab.research.google.com/github/anuragbisht12/Problem-solving/blob/master/UnivalTree.ipynb\" target=\"_parent\"><img src=\"https://colab.research.google.com/assets/colab-badge.svg\" alt=\"Open In Colab\"/></a>"
      ]
    },
    {
      "cell_type": "markdown",
      "metadata": {
        "id": "-zEnLZ1GyRUC",
        "colab_type": "text"
      },
      "source": [
        "Counting Unival Subtrees\n",
        "This interesting interview problem was asked by Google.\n",
        "\n",
        "A unival tree (which stands for “universal value”) is a tree where all nodes have the same value.\n",
        "\n",
        "Given the root to a binary tree, count the number of unival subtrees.\n",
        "\n",
        "Before we solve this, you should take some time to think about it first!\n",
        "O(n)"
      ]
    },
    {
      "cell_type": "code",
      "metadata": {
        "id": "IT_oSDauyzXy",
        "colab_type": "code",
        "colab": {
          "base_uri": "https://localhost:8080/",
          "height": 34
        },
        "outputId": "b5813531-437d-40bb-fffe-fc31ab2c73d4"
      },
      "source": [
        "class Node:  \n",
        "    def __init__(self, value, left=None, right=None):\n",
        "      self.value = value\n",
        "      self.left = left\n",
        "      self.right = right\n",
        "\n",
        "def count_univals2(root):\n",
        "  total_count,is_unival=helper(root)\n",
        "  return total_count\n",
        "\n",
        "def helper(root):\n",
        "  if root== None:\n",
        "    return (0,True)\n",
        "  left_count,is_left_unival=helper(root.left)\n",
        "  right_count,is_right_unival=helper(root.right)\n",
        "  is_unival=True\n",
        "  if not is_left_unival or not is_right_unival:\n",
        "    is_unival=False\n",
        "  if root.left!=None and root.left.value!=root.value:\n",
        "    is_unival=False\n",
        "  if root.right!=None and root.right.value!=root.value:\n",
        "    is_unival=False\n",
        "  if is_unival:\n",
        "    return (left_count+ right_count+1,True)\n",
        "  else:\n",
        "    return (left_count+right_count,False)\n",
        "\n",
        "a=Node(2,Node(3),Node(4))\n",
        "print(count_univals2(a))"
      ],
      "execution_count": 10,
      "outputs": [
        {
          "output_type": "stream",
          "text": [
            "2\n"
          ],
          "name": "stdout"
        }
      ]
    },
    {
      "cell_type": "code",
      "metadata": {
        "id": "ke7MMn7ryShV",
        "colab_type": "code",
        "colab": {}
      },
      "source": [
        ""
      ],
      "execution_count": 0,
      "outputs": []
    }
  ]
}