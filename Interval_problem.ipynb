{
  "nbformat": 4,
  "nbformat_minor": 0,
  "metadata": {
    "colab": {
      "name": "Interval problem.ipynb",
      "provenance": [],
      "authorship_tag": "ABX9TyNvcZdde9yKTNcC87c7Wvzr",
      "include_colab_link": true
    },
    "kernelspec": {
      "name": "python3",
      "display_name": "Python 3"
    }
  },
  "cells": [
    {
      "cell_type": "markdown",
      "metadata": {
        "id": "view-in-github",
        "colab_type": "text"
      },
      "source": [
        "<a href=\"https://colab.research.google.com/github/anuragbisht12/Problem-solving/blob/master/Interval_problem.ipynb\" target=\"_parent\"><img src=\"https://colab.research.google.com/assets/colab-badge.svg\" alt=\"Open In Colab\"/></a>"
      ]
    },
    {
      "cell_type": "code",
      "metadata": {
        "id": "dD4umnLvbpKL",
        "colab_type": "code",
        "colab": {}
      },
      "source": [
        "tuple=[(30, 75), (0, 50), (60, 150)]"
      ],
      "execution_count": 0,
      "outputs": []
    },
    {
      "cell_type": "code",
      "metadata": {
        "id": "zoy0qrzCb49U",
        "colab_type": "code",
        "colab": {
          "base_uri": "https://localhost:8080/",
          "height": 34
        },
        "outputId": "fb0d3e77-4908-46ea-bbb9-e4f34e16dd6b"
      },
      "source": [
        "tuple_modified=[(a,b,b-a) for (a,b) in tuple]\n",
        "tuple_modified\n",
        "sorted_tuple=sorted(tuple_modified,key=lambda x:x[0] )\n",
        "sorted_tuple"
      ],
      "execution_count": 5,
      "outputs": [
        {
          "output_type": "execute_result",
          "data": {
            "text/plain": [
              "[(30, 75, 45), (0, 50, 50), (60, 150, 90)]"
            ]
          },
          "metadata": {
            "tags": []
          },
          "execution_count": 5
        }
      ]
    },
    {
      "cell_type": "code",
      "metadata": {
        "id": "0WpoCLs6cjYC",
        "colab_type": "code",
        "colab": {
          "base_uri": "https://localhost:8080/",
          "height": 34
        },
        "outputId": "e2e64869-7e2f-45bc-cc42-b72d4e15c2dd"
      },
      "source": [
        "c=1\n",
        "max=sorted_tuple[0][1]\n",
        "for i in range(1,len(sorted_tuple[1:])):\n",
        "  if (max>sorted_tuple[i][0]):\n",
        "   c+=1\n",
        "  max=sorted_tuple[i-1][1] if sorted_tuple[i-1][1]>sorted_tuple[i][1] else sorted_tuple[i][1]\n",
        "print(c)\n"
      ],
      "execution_count": 20,
      "outputs": [
        {
          "output_type": "stream",
          "text": [
            "2\n"
          ],
          "name": "stdout"
        }
      ]
    }
  ]
}