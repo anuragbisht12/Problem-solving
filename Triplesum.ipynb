{
  "nbformat": 4,
  "nbformat_minor": 0,
  "metadata": {
    "colab": {
      "name": "Triplesum.ipynb",
      "provenance": [],
      "authorship_tag": "ABX9TyN1MAmMdNc9I5mIvxeEf++z",
      "include_colab_link": true
    },
    "kernelspec": {
      "name": "python3",
      "display_name": "Python 3"
    }
  },
  "cells": [
    {
      "cell_type": "markdown",
      "metadata": {
        "id": "view-in-github",
        "colab_type": "text"
      },
      "source": [
        "<a href=\"https://colab.research.google.com/github/anuragbisht12/Problem-solving/blob/master/Triplesum.ipynb\" target=\"_parent\"><img src=\"https://colab.research.google.com/assets/colab-badge.svg\" alt=\"Open In Colab\"/></a>"
      ]
    },
    {
      "cell_type": "code",
      "metadata": {
        "id": "8Em5XyEdmKkV",
        "colab_type": "code",
        "colab": {}
      },
      "source": [
        "3 2 3\n",
        "1 3 5\n",
        "2 3\n",
        "1 2 3\n",
        "op:8 "
      ],
      "execution_count": 0,
      "outputs": []
    },
    {
      "cell_type": "code",
      "metadata": {
        "id": "BjbbQfD6mNQj",
        "colab_type": "code",
        "colab": {}
      },
      "source": [
        "def triplets(a, b, c):\n",
        "    a, b, c = sorted(set(a)), sorted(set(b)), sorted(set(c))\n",
        "    print(a,b,c)\n",
        "    return sum((bisect(a, x) * bisect(c, x) for x in b))"
      ],
      "execution_count": 0,
      "outputs": []
    }
  ]
}