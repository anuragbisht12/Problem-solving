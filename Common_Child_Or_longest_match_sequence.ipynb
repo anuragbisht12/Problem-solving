{
  "nbformat": 4,
  "nbformat_minor": 0,
  "metadata": {
    "colab": {
      "name": "Common Child Or longest match sequence.ipynb",
      "provenance": [],
      "toc_visible": true,
      "authorship_tag": "ABX9TyOhWA/TkZsa0vqNdADxssFy",
      "include_colab_link": true
    },
    "kernelspec": {
      "name": "python3",
      "display_name": "Python 3"
    }
  },
  "cells": [
    {
      "cell_type": "markdown",
      "metadata": {
        "id": "view-in-github",
        "colab_type": "text"
      },
      "source": [
        "<a href=\"https://colab.research.google.com/github/anuragbisht12/Problem-solving/blob/master/Common_Child_Or_longest_match_sequence.ipynb\" target=\"_parent\"><img src=\"https://colab.research.google.com/assets/colab-badge.svg\" alt=\"Open In Colab\"/></a>"
      ]
    },
    {
      "cell_type": "code",
      "metadata": {
        "id": "w4ytBZE4_ojt",
        "colab_type": "code",
        "colab": {}
      },
      "source": [
        "# Common child"
      ],
      "execution_count": 0,
      "outputs": []
    },
    {
      "cell_type": "code",
      "metadata": {
        "id": "EqXzZd9HZeuz",
        "colab_type": "code",
        "colab": {}
      },
      "source": [
        "def commonChild(s1, s2):\n",
        "    string1=s1\n",
        "    string2=s2\n",
        "\n",
        "    x = len(string1)\n",
        "    y = len(string2)\n",
        "\n",
        "    n = [[0 for _ in range(y+1)] for _ in range(x+1)]\n",
        "\n",
        "    for i in range(1, x+1):\n",
        "        for j in range(1, y+1):\n",
        "            if string1[i-1]==string2[j-1]:\n",
        "                n[i][j] = n[i-1][j-1]+1\n",
        "            elif n[i-1][j]>=n[i][j-1]:\n",
        "                n[i][j]=n[i-1][j]\n",
        "            else:\n",
        "                n[i][j] = n[i][j-1]\n",
        "    return n[x][y]"
      ],
      "execution_count": 0,
      "outputs": []
    }
  ]
}