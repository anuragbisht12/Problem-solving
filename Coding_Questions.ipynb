{
  "nbformat": 4,
  "nbformat_minor": 0,
  "metadata": {
    "colab": {
      "name": "Coding Questions.ipynb",
      "provenance": [],
      "collapsed_sections": [],
      "authorship_tag": "ABX9TyM3mpwlBiflP33Wxr5SFbId",
      "include_colab_link": true
    },
    "kernelspec": {
      "name": "python3",
      "display_name": "Python 3"
    }
  },
  "cells": [
    {
      "cell_type": "markdown",
      "metadata": {
        "id": "view-in-github",
        "colab_type": "text"
      },
      "source": [
        "<a href=\"https://colab.research.google.com/github/anuragbisht12/Problem-solving/blob/master/Coding_Questions.ipynb\" target=\"_parent\"><img src=\"https://colab.research.google.com/assets/colab-badge.svg\" alt=\"Open In Colab\"/></a>"
      ]
    },
    {
      "cell_type": "markdown",
      "metadata": {
        "id": "7cRb3ixY9JZ5",
        "colab_type": "text"
      },
      "source": [
        "Check if 2 numbers add up to k\n"
      ]
    },
    {
      "cell_type": "code",
      "metadata": {
        "id": "gnoksnbGB4C_",
        "colab_type": "code",
        "outputId": "ee6363ac-0676-4f9d-a2ae-df415df628c9",
        "colab": {
          "base_uri": "https://localhost:8080/",
          "height": 34
        }
      },
      "source": [
        "#check if 2 numbers add up to k\n",
        "pairs=[1,2,3,4,5]\n",
        "k=9\n",
        "counter = 0\n",
        "\n",
        "for i in pairs:\n",
        "    if k - i in pairs:\n",
        "        counter += 1\n",
        "\n",
        "print(True if  counter//2 else False)"
      ],
      "execution_count": 0,
      "outputs": [
        {
          "output_type": "stream",
          "text": [
            "True\n"
          ],
          "name": "stdout"
        }
      ]
    },
    {
      "cell_type": "markdown",
      "metadata": {
        "id": "9Sprk8zo9Ci4",
        "colab_type": "text"
      },
      "source": [
        "This problem was asked by Uber.\n",
        "Given an array of integers, return a new array such that each element at index i of the new array is the product of all the numbers in the original array except the one at i.\n",
        "For example, if our input was [1, 2, 3, 4, 5], the expected output would be [120, 60, 40, 30, 24]. If our input was [3, 2, 1], the expected output would be [2, 3, 6].\n",
        "Follow-up: what if you can't use division?\n"
      ]
    },
    {
      "cell_type": "code",
      "metadata": {
        "id": "x8unABo09Fd3",
        "colab_type": "code",
        "outputId": "c5221c33-db98-4f6b-f399-e4652d494aed",
        "colab": {
          "base_uri": "https://localhost:8080/",
          "height": 34
        }
      },
      "source": [
        "import numpy as np\n",
        "import copy\n",
        "li=[3,2,1]\n",
        "li3=[]\n",
        "for i in range(len(li)):\n",
        "  li1=copy.deepcopy(li)\n",
        "  li1.pop(i)\n",
        "  arr = np.array(li1)\n",
        "  li3.append(arr.prod())\n",
        "li3\n"
      ],
      "execution_count": 0,
      "outputs": [
        {
          "output_type": "execute_result",
          "data": {
            "text/plain": [
              "[2, 3, 6]"
            ]
          },
          "metadata": {
            "tags": []
          },
          "execution_count": 29
        }
      ]
    },
    {
      "cell_type": "code",
      "metadata": {
        "id": "O4nRQbSkB9ej",
        "colab_type": "code",
        "outputId": "0e6728d3-165f-4343-e039-8783e7068eda",
        "colab": {
          "base_uri": "https://localhost:8080/",
          "height": 34
        }
      },
      "source": [
        "import numpy as np\n",
        "li=[3,2,1]\n",
        "arr = np.array(li)\n",
        "# print(arr)\n",
        "list(arr.prod()/arr)"
      ],
      "execution_count": 0,
      "outputs": [
        {
          "output_type": "execute_result",
          "data": {
            "text/plain": [
              "[2.0, 3.0, 6.0]"
            ]
          },
          "metadata": {
            "tags": []
          },
          "execution_count": 13
        }
      ]
    },
    {
      "cell_type": "markdown",
      "metadata": {
        "id": "FIidyWfSQ6Vq",
        "colab_type": "text"
      },
      "source": [
        "Good morning! Here's your coding interview problem for today.\n",
        "This problem was asked by Google.\n",
        "\n",
        "Given the root to a binary tree, implement serialize(root), which serializes the tree into a string, and deserialize(s), which deserializes the string back into the tree.\n",
        "For example, given the following Node class\n",
        "class Node:\n",
        "    def __init__(self, val, left=None, right=None):\n",
        "        self.val = val\n",
        "        self.left = left\n",
        "        self.right = right\n",
        "The following test should pass:\n",
        "node = Node('root', Node('left', Node('left.left')), Node('right'))\n",
        "assert deserialize(serialize(node)).left.left.val == 'left.left'\n"
      ]
    },
    {
      "cell_type": "code",
      "metadata": {
        "id": "Cp5REXsbRW-c",
        "colab_type": "code",
        "colab": {}
      },
      "source": [
        "class Node:\n",
        "  def __init__(self, val, left=None, right=None):\n",
        "        self.val = val\n",
        "        self.left = left\n",
        "        self.right = right\n",
        "\n",
        "  def __repr__(self):\n",
        "        return ( 'Node(' + repr(self.val) + ', '+ repr(self.left) + ', '+ repr(self.right) + ')' )"
      ],
      "execution_count": 0,
      "outputs": []
    },
    {
      "cell_type": "code",
      "metadata": {
        "id": "YQpIRsmaWVX5",
        "colab_type": "code",
        "colab": {}
      },
      "source": [
        "serialize = repr\n",
        "deserialize = eval\n",
        "node = Node('root', Node('left', Node('left.left')), Node('right'))\n",
        "assert deserialize(serialize(node)).left.left.val == 'left.left'"
      ],
      "execution_count": 0,
      "outputs": []
    },
    {
      "cell_type": "code",
      "metadata": {
        "id": "CJhJLr6vjjWL",
        "colab_type": "code",
        "outputId": "61e6d55c-c4c7-46d9-dadd-4f3a02eaf531",
        "colab": {
          "base_uri": "https://localhost:8080/",
          "height": 50
        }
      },
      "source": [
        "class Person:\n",
        "    name = 'Adam'\n",
        "\n",
        "    def __repr__(self):\n",
        "        return repr('Hello ' + self.name )\n",
        "\n",
        "class Animal:\n",
        "    name = 'Adam'\n",
        "\n",
        "    def __repr__(self):\n",
        "        return repr('Animal ' + self.name )\n",
        "\n",
        "print(repr(Person()))\n",
        "print(repr(Animal()))"
      ],
      "execution_count": 0,
      "outputs": [
        {
          "output_type": "stream",
          "text": [
            "'Hello Adam'\n",
            "'Animal Adam'\n"
          ],
          "name": "stdout"
        }
      ]
    },
    {
      "cell_type": "code",
      "metadata": {
        "id": "NzQYEd4SSk93",
        "colab_type": "code",
        "colab": {}
      },
      "source": [
        ""
      ],
      "execution_count": 0,
      "outputs": []
    },
    {
      "cell_type": "markdown",
      "metadata": {
        "id": "MFxjJtXASmoW",
        "colab_type": "text"
      },
      "source": [
        "Good morning! Here's your coding interview problem for today.\n",
        "This problem was asked by Stripe.\n",
        "Given an array of integers, find the first missing positive integer in linear time and constant space. In other words, find the lowest positive integer that does not exist in the array. The array can contain duplicates and negative numbers as well.\n",
        "For example, the input [3, 4, -1, 1] should give 2. The input [1, 2, 0] should give 3.\n",
        "You can modify the input array in-place."
      ]
    },
    {
      "cell_type": "code",
      "metadata": {
        "id": "4cKvn1h-SnyW",
        "colab_type": "code",
        "outputId": "54979049-9c7f-4556-e209-4bafdc6f6fff",
        "colab": {
          "base_uri": "https://localhost:8080/",
          "height": 34
        }
      },
      "source": [
        "def missingleastpositive(li):\n",
        "  set1=set([])\n",
        "  for i in range(len(li)):\n",
        "    if li[i]>0:\n",
        "      set1.add(li[i])\n",
        "  \n",
        "  res=1\n",
        "  while res in set1:\n",
        "    res+=1\n",
        "  return res \n",
        "\n",
        "print(missingleastpositive([3,4,-1,1]))\n",
        "\n",
        "# O(n) with constant space\n"
      ],
      "execution_count": 0,
      "outputs": [
        {
          "output_type": "stream",
          "text": [
            "2\n"
          ],
          "name": "stdout"
        }
      ]
    },
    {
      "cell_type": "code",
      "metadata": {
        "id": "6AIRwc8ih4NY",
        "colab_type": "code",
        "colab": {}
      },
      "source": [
        ""
      ],
      "execution_count": 0,
      "outputs": []
    },
    {
      "cell_type": "markdown",
      "metadata": {
        "id": "CfzlKYjdh7Xq",
        "colab_type": "text"
      },
      "source": [
        "This problem was asked by Jane Street.\n",
        "\n",
        "cons(a, b) constructs a pair, and car(pair) and cdr(pair) returns the first and last element of that pair. For example, car(cons(3, 4)) returns 3, and cdr(cons(3, 4)) returns 4.\n",
        "\n",
        "Given this implementation of cons:\n",
        "\n",
        "def cons(a, b):\n",
        "    def pair(f):\n",
        "        return f(a, b)\n",
        "    return pair\n",
        "Implement car and cdr.\n",
        "\n"
      ]
    },
    {
      "cell_type": "code",
      "metadata": {
        "id": "JpAQNe5piIcn",
        "colab_type": "code",
        "outputId": "73a0501f-3fea-4ae2-8f3e-ae99dcda535b",
        "colab": {
          "base_uri": "https://localhost:8080/",
          "height": 34
        }
      },
      "source": [
        "def cons(a, b):\n",
        "   def pair(f):\n",
        "      return f(a, b)\n",
        "     \n",
        "   return pair\n",
        "\n",
        "cons(3,4)"
      ],
      "execution_count": 0,
      "outputs": [
        {
          "output_type": "execute_result",
          "data": {
            "text/plain": [
              "<function __main__.cons.<locals>.pair>"
            ]
          },
          "metadata": {
            "tags": []
          },
          "execution_count": 2
        }
      ]
    },
    {
      "cell_type": "code",
      "metadata": {
        "id": "mzd8Egngja4k",
        "colab_type": "code",
        "outputId": "f35280af-02fc-437b-a96b-bd550158980b",
        "colab": {
          "base_uri": "https://localhost:8080/",
          "height": 50
        }
      },
      "source": [
        "# def cons(a, b):\n",
        "#     def pair(f):\n",
        "#         return f(a, b)\n",
        "#     return pair\n",
        "def car(f):\n",
        "    def left(a, b):\n",
        "        return a\n",
        "    return f(left)\n",
        "\n",
        "def cdr(f):\n",
        "    def right(a, b):\n",
        "        return b\n",
        "    return f(right)\n",
        "\n",
        "print(car(cons(3,4)))\n",
        "print(cdr(cons(3,4)))"
      ],
      "execution_count": 0,
      "outputs": [
        {
          "output_type": "stream",
          "text": [
            "3\n",
            "4\n"
          ],
          "name": "stdout"
        }
      ]
    },
    {
      "cell_type": "markdown",
      "metadata": {
        "id": "F-iX2PzccTYN",
        "colab_type": "text"
      },
      "source": [
        "Good morning! Here's your coding interview problem for today.\n",
        "\n",
        "This problem was asked by Facebook.\n",
        "\n",
        "Given the mapping a = 1, b = 2, ... z = 26, and an encoded message, count the number of ways it can be decoded.\n",
        "\n",
        "For example, the message '111' would give 3, since it could be decoded as 'aaa', 'ka', and 'ak'.\n",
        "\n",
        "You can assume that the messages are decodable. For example, '001' is not allowed."
      ]
    },
    {
      "cell_type": "code",
      "metadata": {
        "id": "vtkJO8iscxqN",
        "colab_type": "code",
        "colab": {
          "base_uri": "https://localhost:8080/",
          "height": 101
        },
        "outputId": "c561d9a4-8728-4d08-efe6-2183552014d6"
      },
      "source": [
        "def countoccurence(message):\n",
        "  n=len(message)\n",
        "  count=[0]*(n+1) #table to store the results of the problem\n",
        "  count[0]=1\n",
        "  count[1]=1\n",
        "  for i in range(2,n+1):\n",
        "    print(f'inside loop {i}')\n",
        "    count[i]=0\n",
        "\n",
        "    # If the last digit is not 0, then last \n",
        "    # digit must add to the number of words\n",
        "    if message[i-1]>'0':\n",
        "      print(f\"message[i-1]>'0'\")\n",
        "      count[i]=count[i-1]\n",
        "    \n",
        "    # If second last digit is smaller than 2 \n",
        "    # and last digit is smaller than 7, then \n",
        "    # last two digits form a valid character  \n",
        "    if message[i - 2] == '1' or (message[i - 2] == '2' and message[i - 1] < '7'):\n",
        "      count[i]+=count[i-2]\n",
        "    \n",
        "  return count[n]\n",
        "\n",
        "\n",
        "message='121'\n",
        "print(countoccurence(message))\n"
      ],
      "execution_count": 14,
      "outputs": [
        {
          "output_type": "stream",
          "text": [
            "inside loop 2\n",
            "message[i-1]>'0'\n",
            "inside loop 3\n",
            "message[i-1]>'0'\n",
            "3\n"
          ],
          "name": "stdout"
        }
      ]
    }
  ]
}