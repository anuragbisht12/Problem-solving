{
  "nbformat": 4,
  "nbformat_minor": 0,
  "metadata": {
    "colab": {
      "name": " largest sum of non-adjacent numbers.ipynb",
      "provenance": [],
      "authorship_tag": "ABX9TyOQQXMbxf28ylm0mH9sFr7P",
      "include_colab_link": true
    },
    "kernelspec": {
      "name": "python3",
      "display_name": "Python 3"
    }
  },
  "cells": [
    {
      "cell_type": "markdown",
      "metadata": {
        "id": "view-in-github",
        "colab_type": "text"
      },
      "source": [
        "<a href=\"https://colab.research.google.com/github/anuragbisht12/Problem-solving/blob/master/largest_sum_of_non_adjacent_numbers.ipynb\" target=\"_parent\"><img src=\"https://colab.research.google.com/assets/colab-badge.svg\" alt=\"Open In Colab\"/></a>"
      ]
    },
    {
      "cell_type": "markdown",
      "metadata": {
        "id": "jSgfDm_NFNCo",
        "colab_type": "text"
      },
      "source": [
        "This problem was asked by Airbnb.\n",
        "\n",
        "Given a list of integers, write a function that returns the largest sum of non-adjacent numbers. Numbers can be 0 or negative.\n",
        "\n",
        "For example, [2, 4, 6, 2, 5] should return 13, since we pick 2, 6, and 5. [5, 1, 1, 5] should return 10, since we pick 5 and 5."
      ]
    },
    {
      "cell_type": "code",
      "metadata": {
        "id": "z_6lFkdHFOEB",
        "colab_type": "code",
        "colab": {}
      },
      "source": [
        "def find_max_sum(arr): \n",
        "    incl = 0\n",
        "    excl = 0\n",
        "    new_excl=0\n",
        "    for i in arr: \n",
        "        print(f'{incl},{excl}')\n",
        "          \n",
        "        # Current max excluding i (No ternary in  \n",
        "        # Python) \n",
        "        new_excl = excl if excl>incl else incl \n",
        "         \n",
        "        # Current max including i \n",
        "        incl = excl + i \n",
        "        excl = new_excl \n",
        "    print(f'{incl},{excl}')  \n",
        "    # return max of incl and excl \n",
        "    return (excl if excl>incl else incl) "
      ],
      "execution_count": 0,
      "outputs": []
    },
    {
      "cell_type": "code",
      "metadata": {
        "id": "3a1WbZAkJDEG",
        "colab_type": "code",
        "colab": {
          "base_uri": "https://localhost:8080/",
          "height": 118
        },
        "outputId": "358e8f6d-4b1b-463a-b8a3-fb75fd814779"
      },
      "source": [
        "arr = [5, 1, 1, 5]\n",
        "print(find_max_sum(arr)) "
      ],
      "execution_count": 12,
      "outputs": [
        {
          "output_type": "stream",
          "text": [
            "0,0\n",
            "5,0\n",
            "1,5\n",
            "6,5\n",
            "10,6\n",
            "10\n"
          ],
          "name": "stdout"
        }
      ]
    },
    {
      "cell_type": "code",
      "metadata": {
        "id": "Qvt23JlEJ4lU",
        "colab_type": "code",
        "colab": {}
      },
      "source": [
        "# O(n) and space O(1)"
      ],
      "execution_count": 0,
      "outputs": []
    }
  ]
}