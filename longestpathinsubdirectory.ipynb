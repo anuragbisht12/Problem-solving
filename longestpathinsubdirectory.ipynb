{
  "nbformat": 4,
  "nbformat_minor": 0,
  "metadata": {
    "colab": {
      "name": "longestpathinsubdirectory.ipynb",
      "provenance": [],
      "authorship_tag": "ABX9TyMMCueI+MfJsnnH1NpRMQ13",
      "include_colab_link": true
    },
    "kernelspec": {
      "name": "python3",
      "display_name": "Python 3"
    }
  },
  "cells": [
    {
      "cell_type": "markdown",
      "metadata": {
        "id": "view-in-github",
        "colab_type": "text"
      },
      "source": [
        "<a href=\"https://colab.research.google.com/github/anuragbisht12/Problem-solving/blob/master/longestpathinsubdirectory.ipynb\" target=\"_parent\"><img src=\"https://colab.research.google.com/assets/colab-badge.svg\" alt=\"Open In Colab\"/></a>"
      ]
    },
    {
      "cell_type": "code",
      "metadata": {
        "id": "aHSZMEPZkmdi",
        "colab_type": "code",
        "colab": {}
      },
      "source": [
        ""
      ],
      "execution_count": 0,
      "outputs": []
    },
    {
      "cell_type": "markdown",
      "metadata": {
        "id": "zC8mR6fEkpuO",
        "colab_type": "text"
      },
      "source": [
        "Good morning! Here's your coding interview problem for today.\n",
        "\n",
        "This problem was asked by Google.\n",
        "\n",
        "Suppose we represent our file system by a string in the following manner:\n",
        "\n",
        "The string \"dir\\n\\tsubdir1\\n\\tsubdir2\\n\\t\\tfile.ext\" represents:\n",
        "\n",
        "\n",
        "dir\n",
        "\n",
        "    subdir1\n",
        "    subdir2\n",
        "        file.ext\n",
        "\n",
        "The directory dir contains an empty sub-directory subdir1 and a sub-directory subdir2 containing a file file.ext.\n",
        "\n",
        "The string \"dir\\n\\tsubdir1\\n\\t\\tfile1.ext\\n\\t\\tsubsubdir1\\n\\tsubdir2\\n\\t\\tsubsubdir2\\n\\t\\t\\tfile2.ext\" represents:\n",
        "dir\n",
        "\n",
        "    subdir1\n",
        "        file1.ext\n",
        "        subsubdir1\n",
        "    subdir2\n",
        "        subsubdir2\n",
        "            file2.ext\n",
        "\n",
        "The directory dir contains two sub-directories subdir1 and subdir2. subdir1 contains a file file1.ext and an empty second-level sub-directory subsubdir1. subdir2 contains a second-level sub-directory subsubdir2 containing a file file2.ext.\n",
        "\n",
        "We are interested in finding the longest (number of characters) absolute path to a file within our file system. For example, in the second example above, the longest absolute path is \"dir/subdir2/subsubdir2/file2.ext\", and its length is 32 (not including the double quotes).\n",
        "\n",
        "Given a string representing the file system in the above format, return the length of the longest absolute path to a file in the abstracted file system. If there is no file in the system, return 0.\n",
        "\n"
      ]
    },
    {
      "cell_type": "code",
      "metadata": {
        "id": "xYw5uj7ZoXEo",
        "colab_type": "code",
        "colab": {}
      },
      "source": [
        "class Solution:\n",
        "    def lengthLongestPath(self, input: str) -> int:\n",
        "        max_len = 0\n",
        "        level_lengths = {}\n",
        "        \n",
        "        for path in input.split('\\n'):\n",
        "            level = path.count('\\t')\n",
        "            if '.' not in path:\n",
        "                value = len(path.replace('\\t', ''))\n",
        "                level_lengths[level] = value\n",
        "            else:\n",
        "                file_length = len(path.replace('\\t', '')) + level\n",
        "                for l in level_lengths.keys():\n",
        "                    if l < level:\n",
        "                        file_length += level_lengths[l]\n",
        "                max_len = max(max_len, file_length)\n",
        "        \n",
        "        return max_len"
      ],
      "execution_count": 0,
      "outputs": []
    }
  ]
}